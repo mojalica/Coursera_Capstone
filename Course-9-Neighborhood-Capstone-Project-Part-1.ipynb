{
    "nbformat_minor": 1, 
    "cells": [
        {
            "source": "<h1> IBM Data Science Capstone\n\n", 
            "cell_type": "markdown", 
            "metadata": {}
        }, 
        {
            "source": "<i>This Jupyter Notebook contains the <b>Neighborhood Capstone Project Part I</b> for the IBM Data Science Course 9. <i>\n", 
            "cell_type": "markdown", 
            "metadata": {}
        }, 
        {
            "source": "## Abstract\nThis capstone project aims to determine the ideal local for a new fitness venue. To do this, I must determine where current fitness centers and similar businesses are located within the neighborhoods of Arlington County, VA. I will use an open source data of neighborhood locations, fitness venue data from Foursquare API, and a k-means clustering algorithm to group similar venues together. \n", 
            "cell_type": "markdown", 
            "metadata": {}
        }, 
        {
            "source": "## Background\n\nAmazon has officially chosen its East Coast Headquarters 2 in Arlington, VA, prompting an influx of young, technologically savvy white-collar workers and therefore causing property (business, housing, and commercial) prices to skyrocket in its wake. An investor has shown interest in my fitness center brand, which targets the busy but deeply connected 20-something-year-olds and wants to decide on a location before the prices increase beyond affordability. \n\nMy fitness brand focuses on specialty classes such as yoga, cycling, MMA, in addition to classics cardio machines (treadmills, ellipticals, stair-steppers) and free-weights with personal trainers. However, it will be open 24/7 with keycode access, an onsite cafe and smoothie bar featuring a wide array of the trendiest diet fads (keto, vegan, raw diet, etc), and 5G with plenty of charging stations. The real draw is to make it the most Instragrammable gym in the county (complete with flattering lighting, hip workout rooms, and polished equipment). \n\nTo prove my future business partner that this will be a worthy investment, I must determine a good location for your new fitness center. Ideally, the fitness center must be located in a densely populated area to attract as many gym members as possible. However, to minimize competition, it must not be located too close to top-rated fitness centers or in an area that is already saturated with similar venues.  \n", 
            "cell_type": "markdown", 
            "metadata": {}
        }, 
        {
            "source": "## Data Description\nThe following data sets were used for this project:\n\n### 1. Arlington, VA neighborhood data \nThis data was extracted from https://en.wikipedia.org/wiki/List_of_neighborhoods_in_Arlington_County,_Virginia  \n*High-density areas were noted to be: Rosslyn, Courthouse, Ballston, Pentagon City, and Crystal City*\n\nI used Google Maps to get the coordinates of each town. The original data was cleaned by updating names from original Wikipedia list to Google's list, ensuring that town names were, in fact, in Arlington County and not another county in Virginia, removing towns that were not in Arlington County, and formatting latitude coordinates to read \"-77.XXXX\" rather than \"77.XXXX\u00b0 W\" \n\n**NOTE:** For a more in-depth look into the nuances of gym locations, I choose to use locally recognized neighborhoods (66 originally, 53 cleansed) rather than zipcodes (some sources say 28, others say 11). This list will hopefully provide greater insight on the distribution of gyms in the area.\n\n<h>\n\n\n### 2. Fitness center proximities and types in Arlington, VA\nThis data was extracted using the Foursquare API.\n\n## How the Data was Used\n\nThe neighborhoods are relatively small, so I used a 1 km radius from each longitude/latitude center point while searching for fitness centers and all fitness-related venues using the Foursquare API.  \n\n**I wanted to know**  \nWhich neighborhoods have the highest number of fitness venues? \nWhich neighborhoods have the best ranking fitness venues?  \nHow many of each venue are in each neighborhood?   \n\n**Other assumptions**\nI did not create a choropleth map of the neighborhoods to check for area overlap, or for town areas that were not represented by a neighborhood (aka, a blank area). I assumed that if the area was not represented by a neighborhood, then it wouldn't be an ideal place for a new fitness center. Therefore, it didn't matter if it was in my data list as a location to be considered for a new fitness center.\n\nWhen cleaning the data, I discarded the neighborhood if it was  \n1) Unrecognized by Google  \n2) Mistaken as an apartment complex  \n3) Mistaken as a road\n", 
            "cell_type": "markdown", 
            "metadata": {}
        }, 
        {
            "source": "", 
            "cell_type": "code", 
            "metadata": {}, 
            "outputs": [], 
            "execution_count": null
        }
    ], 
    "metadata": {
        "kernelspec": {
            "display_name": "Python 3.5", 
            "name": "python3", 
            "language": "python"
        }, 
        "language_info": {
            "mimetype": "text/x-python", 
            "nbconvert_exporter": "python", 
            "version": "3.5.5", 
            "name": "python", 
            "pygments_lexer": "ipython3", 
            "file_extension": ".py", 
            "codemirror_mode": {
                "version": 3, 
                "name": "ipython"
            }
        }
    }, 
    "nbformat": 4
}