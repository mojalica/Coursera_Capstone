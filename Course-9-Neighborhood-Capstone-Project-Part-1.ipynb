{
    "nbformat_minor": 1, 
    "cells": [
        {
            "source": "<h1> IBM Data Science Capstone\n\n", 
            "cell_type": "markdown", 
            "metadata": {}
        }, 
        {
            "source": "<i>This Jupyter Notebook contains the <b>Neighborhood Capstone Project Part I</b> for the IBM Data Science Course 9. <i>\n", 
            "cell_type": "markdown", 
            "metadata": {}
        }, 
        {
            "source": "## ABSTRACT\nThis capstone project aims to determine the ideal local for a new fitness venue. To do this, I must determine where current fitness centers and similar businesses are located within the neighborhoods of Arlington County, VA. I will use an open source data of neighborhood locations, fitness venue data from Foursquare API, and a k-means clustering algorithm to group similar venues together. \n", 
            "cell_type": "markdown", 
            "metadata": {}
        }, 
        {
            "source": "## BACKGROUND\n\nAmazon has officially chosen its East Coast Headquarters 2 in Arlington, VA, prompting an influx of young, technologically savvy white-collar workers and therefore causing property (business, housing, and commercial) prices to skyrocket in its wake. An investor has shown interest in my fitness center brand, which targets the busy but deeply connected 20-something-year-olds and wants to decide on a location before the prices increase beyond affordability. \n\nMy fitness brand focuses on specialty classes such as yoga, cycling, MMA, in addition to classics cardio machines (treadmills, ellipticals, stair-steppers) and free-weights with personal trainers. However, it will be open 24/7 with keycode access, an onsite cafe and smoothie bar featuring a wide array of the trendiest diet fads (keto, vegan, raw diet, etc), and 5G with plenty of charging stations. The real draw is to make it the most Instragrammable gym in the county (complete with flattering lighting, hip workout rooms, and polished equipment). \n\nTo prove my future business partner that this will be a worthy investment, I must determine a good location for your new fitness center. Ideally, the fitness center must be located in a densely populated area to attract as many gym members as possible. However, to minimize competition, it must not be located too close to top-rated fitness centers or in an area that is already saturated with similar venues.  \n", 
            "cell_type": "markdown", 
            "metadata": {}
        }, 
        {
            "source": "## DATA DESCRIPTION\nThe following data sets were used for this project:\n\n### 1. Arlington, VA neighborhood data \nThis data was extracted from the list on https://en.wikipedia.org/wiki/List_of_neighborhoods_in_Arlington_County,_Virginia using Beautiful Soup, and then transformed the data into a pandas dataframe.\n*High-density areas were noted to be: Rosslyn, Courthouse, Ballston, Pentagon City, and Crystal City*", 
            "cell_type": "markdown", 
            "metadata": {}
        }, 
        {
            "execution_count": 2, 
            "cell_type": "code", 
            "metadata": {}, 
            "outputs": [], 
            "source": "import requests\nURL = requests.get('https://en.wikipedia.org/wiki/List_of_neighborhoods_in_Arlington_County,_Virginia').text\n\n#Importing the 'BeautifulSoup' library\nfrom bs4 import BeautifulSoup\n\n#Designating webpage's html code as 'soup'\nsoup = BeautifulSoup(URL,'lxml')"
        }, 
        {
            "execution_count": 17, 
            "cell_type": "code", 
            "metadata": {}, 
            "outputs": [
                {
                    "output_type": "stream", 
                    "name": "stdout", 
                    "text": "Alcova Heights\nArlington Forest\nArlington Heights\nArlington Ridge\nArlington View / Johnson's Hill\nAshton Heights\nAurora Hills\nBallston\nBarcroft\nBellevue Forest\nBluemont\nBonair\nBoulevard Manor\nBrandon Village\nBuckingham\nCarlin Springs\nCherrydale\nClaremont\nClarendon\nColumbia Forest\nColumbia Heights\nCountry Club Hills\nCrescent Hills\nCrystal City\nCrystal Gateway\nDominion Hills\nDonaldson Run\nDouglas Park\nEast Falls Church\nFairlington\nForest Glen\nForest Hills\nFort Myer Heights\nGlencarlyn\nGarden City\nGates of Ballston\nGreenbrier\nHigh View Park / Halls Hill\nJackson Court\nLacey Forest\nLauderdale\nLee Heights\nLyon Park\nMadison Manor\nMaywood\nNew Dover\nNauck (Green Valley A.K.A. The Valley)\nOld Glebe\nOver Lee Knolls\nPenrose\nPentagon City\nProspect House\nRandolph Square\nRivercrest\nRosslyn\nShirlington Crest\nStation Square\nTara\nWaycroft-Woodlawn\nWaverly Hills\nWestmont\nWestover\nWillet Heights\nWilliamsburg\nWilliamsburg Village\nYorktown\n"
                }
            ], 
            "source": "#Calls upon specific list in the webpage\nArlingtonList = soup.find('ul')\n\nfor ul in ArlingtonList:\n    newsoup = BeautifulSoup(str(ul), 'html.parser')\n    lis = newsoup.find_all('li')\n    for li in lis:\n        print(li.text)"
        }, 
        {
            "execution_count": 14, 
            "cell_type": "code", 
            "metadata": {}, 
            "outputs": [
                {
                    "ename": "KeyError", 
                    "evalue": "0", 
                    "traceback": [
                        "\u001b[0;31m---------------------------------------------------------------------------\u001b[0m", 
                        "\u001b[0;31mKeyError\u001b[0m                                  Traceback (most recent call last)", 
                        "\u001b[0;32m<ipython-input-14-b31d47887ac9>\u001b[0m in \u001b[0;36m<module>\u001b[0;34m()\u001b[0m\n\u001b[1;32m      3\u001b[0m \u001b[0;34m\u001b[0m\u001b[0m\n\u001b[1;32m      4\u001b[0m \u001b[0;31m# Creates dataframe \u2018df\u2019 with new column labels \"Neighborhoods\".\u001b[0m\u001b[0;34m\u001b[0m\u001b[0;34m\u001b[0m\u001b[0m\n\u001b[0;32m----> 5\u001b[0;31m \u001b[0mdf\u001b[0m \u001b[0;34m=\u001b[0m \u001b[0mpd\u001b[0m\u001b[0;34m.\u001b[0m\u001b[0mDataFrame\u001b[0m\u001b[0;34m(\u001b[0m\u001b[0mnewsoup\u001b[0m\u001b[0;34m)\u001b[0m\u001b[0;34m\u001b[0m\u001b[0m\n\u001b[0m\u001b[1;32m      6\u001b[0m \u001b[0mdf\u001b[0m\u001b[0;34m.\u001b[0m\u001b[0mcolumns\u001b[0m \u001b[0;34m=\u001b[0m \u001b[0;34m[\u001b[0m\u001b[0;34m'Neighborhoods'\u001b[0m\u001b[0;34m]\u001b[0m\u001b[0;34m\u001b[0m\u001b[0m\n", 
                        "\u001b[0;32m/opt/conda/envs/DSX-Python35/lib/python3.5/site-packages/pandas/core/frame.py\u001b[0m in \u001b[0;36m__init__\u001b[0;34m(self, data, index, columns, dtype, copy)\u001b[0m\n\u001b[1;32m    390\u001b[0m         \u001b[0;32melse\u001b[0m\u001b[0;34m:\u001b[0m\u001b[0;34m\u001b[0m\u001b[0m\n\u001b[1;32m    391\u001b[0m             \u001b[0;32mtry\u001b[0m\u001b[0;34m:\u001b[0m\u001b[0;34m\u001b[0m\u001b[0m\n\u001b[0;32m--> 392\u001b[0;31m                 \u001b[0marr\u001b[0m \u001b[0;34m=\u001b[0m \u001b[0mnp\u001b[0m\u001b[0;34m.\u001b[0m\u001b[0marray\u001b[0m\u001b[0;34m(\u001b[0m\u001b[0mdata\u001b[0m\u001b[0;34m,\u001b[0m \u001b[0mdtype\u001b[0m\u001b[0;34m=\u001b[0m\u001b[0mdtype\u001b[0m\u001b[0;34m,\u001b[0m \u001b[0mcopy\u001b[0m\u001b[0;34m=\u001b[0m\u001b[0mcopy\u001b[0m\u001b[0;34m)\u001b[0m\u001b[0;34m\u001b[0m\u001b[0m\n\u001b[0m\u001b[1;32m    393\u001b[0m             \u001b[0;32mexcept\u001b[0m \u001b[0;34m(\u001b[0m\u001b[0mValueError\u001b[0m\u001b[0;34m,\u001b[0m \u001b[0mTypeError\u001b[0m\u001b[0;34m)\u001b[0m \u001b[0;32mas\u001b[0m \u001b[0me\u001b[0m\u001b[0;34m:\u001b[0m\u001b[0;34m\u001b[0m\u001b[0m\n\u001b[1;32m    394\u001b[0m                 exc = TypeError('DataFrame constructor called with '\n", 
                        "\u001b[0;32m/opt/conda/envs/DSX-Python35/lib/python3.5/site-packages/bs4/element.py\u001b[0m in \u001b[0;36m__getitem__\u001b[0;34m(self, key)\u001b[0m\n\u001b[1;32m   1009\u001b[0m         \"\"\"tag[key] returns the value of the 'key' attribute for the tag,\n\u001b[1;32m   1010\u001b[0m         and throws an exception if it's not there.\"\"\"\n\u001b[0;32m-> 1011\u001b[0;31m         \u001b[0;32mreturn\u001b[0m \u001b[0mself\u001b[0m\u001b[0;34m.\u001b[0m\u001b[0mattrs\u001b[0m\u001b[0;34m[\u001b[0m\u001b[0mkey\u001b[0m\u001b[0;34m]\u001b[0m\u001b[0;34m\u001b[0m\u001b[0m\n\u001b[0m\u001b[1;32m   1012\u001b[0m \u001b[0;34m\u001b[0m\u001b[0m\n\u001b[1;32m   1013\u001b[0m     \u001b[0;32mdef\u001b[0m \u001b[0m__iter__\u001b[0m\u001b[0;34m(\u001b[0m\u001b[0mself\u001b[0m\u001b[0;34m)\u001b[0m\u001b[0;34m:\u001b[0m\u001b[0;34m\u001b[0m\u001b[0m\n", 
                        "\u001b[0;31mKeyError\u001b[0m: 0"
                    ], 
                    "output_type": "error"
                }
            ], 
            "source": "#Import pandas library\nimport pandas as pd\n\n# Creates dataframe \u2018df\u2019 with new column labels \"Neighborhoods\".\ndf = pd.DataFrame(newsoup) \ndf.columns = ['Neighborhoods']\n"
        }, 
        {
            "source": "\nThen, I used Google Maps to get the coordinates of each town. The original data was cleaned by updating names from original Wikipedia list to Google's list, ensuring that town names were, in fact, in Arlington County and not somewhere else in Virginia, removing towns that were not in Arlington County, and formatting latitude coordinates to read \"-77.XXXX\" rather than \"77.XXXX\u00b0 W\" \n\n**NOTE:** For a more in-depth look into the nuances of gym locations, I choose to use locally recognized neighborhoods (66 originally, 53 cleansed) rather than zipcodes (some sources say 28, others say 11). This list will hopefully provide greater insight on the distribution of gyms in the area.\n\n\n### 2. Fitness center proximities and types in Arlington, VA\nThis data was extracted using the Foursquare API.\n\n## HOW THE DATA WAS USED\n\nThe neighborhoods are relatively small, so I used a 1 km radius from each longitude/latitude center point while searching for fitness centers and all fitness-related venues using the Foursquare API.  \n\n**I wanted to know**  \nWhich neighborhoods have the highest number of fitness venues? \nWhich neighborhoods have the best ranking fitness venues?  \nHow many of each venue are in each neighborhood?   \n\n**Other assumptions**\nI did not create a choropleth map of the neighborhoods to check for area overlap, or for town areas that were not represented by a neighborhood (aka, a blank area). I assumed that if the area was not represented by a neighborhood, then it wouldn't be an ideal place for a new fitness center. Therefore, it didn't matter if it was in my data list as a location to be considered for a new fitness center.\n\nWhen cleaning the data, I discarded the neighborhood if it was  \n1) Unrecognized by Google  \n2) Mistaken as an apartment complex  \n3) Mistaken as a road\n", 
            "cell_type": "markdown", 
            "metadata": {}
        }, 
        {
            "execution_count": null, 
            "cell_type": "code", 
            "metadata": {}, 
            "outputs": [], 
            "source": ""
        }
    ], 
    "metadata": {
        "kernelspec": {
            "display_name": "Python 3.5", 
            "name": "python3", 
            "language": "python"
        }, 
        "language_info": {
            "mimetype": "text/x-python", 
            "nbconvert_exporter": "python", 
            "version": "3.5.5", 
            "name": "python", 
            "file_extension": ".py", 
            "pygments_lexer": "ipython3", 
            "codemirror_mode": {
                "version": 3, 
                "name": "ipython"
            }
        }
    }, 
    "nbformat": 4
}